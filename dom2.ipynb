{
 "cells": [
  {
   "cell_type": "code",
   "execution_count": 2,
   "metadata": {},
   "outputs": [
    {
     "name": "stdout",
     "output_type": "stream",
     "text": [
      "Fields in the AlignedSegment:\n",
      "C0HVYACXX120402:7:1207:5722:57044\t1187\t#20\t9483249\t27\t76M\t#20\t9483382\t209\tTTTTCAAACAGTATCTATGCCTGCCAAATGTGAACATATAAAAAAAAACCAGAATGTGCCATTCTGATTTAAACTG\tarray('B', [28, 28, 27, 29, 31, 30, 31, 31, 29, 31, 35, 30, 29, 31, 34, 30, 29, 23, 41, 32, 20, 30, 29, 34, 34, 29, 30, 31, 30, 30, 30, 33, 33, 26, 39, 12, 25, 19, 32, 30, 35, 28, 35, 33, 23, 33, 35, 36, 30, 38, 33, 41, 34, 35, 31, 33, 23, 30, 30, 36, 27, 32, 29, 34, 35, 41, 33, 31, 33, 29, 32, 32, 31, 31, 31, 34])\t[('XA', 'GL000217.1,-110754,76M,1;'), ('BD', 'NNNNNNNNNNNNNNNNNNNNNNNNNNNNNNNNNNNNNNNNNNNNNNNNNNNNNNNNNNNNNNNNNNNNNNNNNNNN'), ('MD', '76'), ('RG', '1'), ('BI', 'NNNNNNNNNNNNNNNNNNNNNNNNNNNNNNNNNNNNNNNNNNNNNNNNNNNNNNNNNNNNNNNNNNNNNNNNNNNN'), ('NM', 0), ('MQ', 27), ('AS', 76), ('XS', 71)]\n"
     ]
    }
   ],
   "source": [
    "import pysam\n",
    "\n",
    "# Create AlignmentFile object\n",
    "alignment_file = pysam.AlignmentFile(\"merged-tumor.bam\", \"rb\")\n",
    "\n",
    "# Take the first read from the AlignmentFile\n",
    "first_read = next(alignment_file)\n",
    "\n",
    "# Inspect the fields in the AlignedSegment\n",
    "print(\"Fields in the AlignedSegment:\")\n",
    "print(first_read)"
   ]
  },
  {
   "cell_type": "code",
   "execution_count": 3,
   "metadata": {},
   "outputs": [
    {
     "name": "stdout",
     "output_type": "stream",
     "text": [
      "Reference sequence name: 21\n",
      "Start position: 9483248\n",
      "Mapping quality: 27\n",
      "Flag: 1187\n"
     ]
    }
   ],
   "source": [
    "#Inspect the fields in the AlignedSegment\n",
    "print(\"Reference sequence name:\", first_read.reference_name)\n",
    "print(\"Start position:\", first_read.reference_start)\n",
    "print(\"Mapping quality:\", first_read.mapping_quality)\n",
    "\n",
    "#Inspect the flag field\n",
    "print(\"Flag:\", first_read.flag)"
   ]
  },
  {
   "cell_type": "code",
   "execution_count": 4,
   "metadata": {},
   "outputs": [
    {
     "name": "stdout",
     "output_type": "stream",
     "text": [
      "Read 1 flag: 163\n",
      "Read 2 flag: 99\n",
      "Read 3 flag: 99\n",
      "Read 4 flag: 99\n",
      "Read 5 flag: 163\n",
      "Read 6 flag: 99\n",
      "Read 7 flag: 1123\n",
      "Read 8 flag: 99\n",
      "Read 9 flag: 1123\n",
      "Read 10 flag: 99\n"
     ]
    }
   ],
   "source": [
    "# First 10 flags\n",
    "for i, read in enumerate(alignment_file):\n",
    "    if i >= 10: \n",
    "        break\n",
    "    print(f\"Read {i+1} flag:\", read.flag)"
   ]
  },
  {
   "cell_type": "code",
   "execution_count": 5,
   "metadata": {},
   "outputs": [
    {
     "name": "stdout",
     "output_type": "stream",
     "text": [
      "Number of unmapped reads is 17765.\n"
     ]
    },
    {
     "data": {
      "text/plain": [
       "0"
      ]
     },
     "execution_count": 5,
     "metadata": {},
     "output_type": "execute_result"
    }
   ],
   "source": [
    "# Count number of unmapped reads\n",
    "num_unmapped_reads = sum(1 for read in alignment_file if read.is_unmapped)\n",
    "print(\"Number of unmapped reads is \" + str(num_unmapped_reads) + \".\")\n",
    "\n",
    "# Reset alignment_file to iterate over all reads again\n",
    "alignment_file.reset()"
   ]
  },
  {
   "cell_type": "code",
   "execution_count": 6,
   "metadata": {},
   "outputs": [
    {
     "name": "stdout",
     "output_type": "stream",
     "text": [
      "Total number of reads is 2921629.\n"
     ]
    },
    {
     "data": {
      "text/plain": [
       "0"
      ]
     },
     "execution_count": 6,
     "metadata": {},
     "output_type": "execute_result"
    }
   ],
   "source": [
    "# Total number of reads\n",
    "total_reads = sum(1 for read in alignment_file)\n",
    "print(\"Total number of reads is \" + str(total_reads) + \".\")\n",
    "\n",
    "# Reset alignment_file to iterate over all reads again\n",
    "alignment_file.reset()"
   ]
  },
  {
   "cell_type": "code",
   "execution_count": 7,
   "metadata": {},
   "outputs": [
    {
     "name": "stdout",
     "output_type": "stream",
     "text": [
      "Total number of reads is 126628.\n"
     ]
    },
    {
     "data": {
      "text/plain": [
       "0"
      ]
     },
     "execution_count": 7,
     "metadata": {},
     "output_type": "execute_result"
    }
   ],
   "source": [
    "# Number of reads with mapping quality 0\n",
    "num_zero_mapping_quality_reads = sum(1 for read in alignment_file if read.mapping_quality == 0)\n",
    "print(\"Total number of reads is \" + str(num_zero_mapping_quality_reads) + \".\")\n",
    "\n",
    "# Reset alignment_file to iterate over all reads again\n",
    "alignment_file.reset()"
   ]
  },
  {
   "cell_type": "code",
   "execution_count": 8,
   "metadata": {},
   "outputs": [
    {
     "name": "stdout",
     "output_type": "stream",
     "text": [
      "Average mapping quality of all reads is 55.91379158681681.\n"
     ]
    },
    {
     "data": {
      "text/plain": [
       "0"
      ]
     },
     "execution_count": 8,
     "metadata": {},
     "output_type": "execute_result"
    }
   ],
   "source": [
    "# Average mapping quality for all the reads\n",
    "sum_of_mapping_quality = sum(read.mapping_quality for read in alignment_file)\n",
    "average_mapping_quality_all_reads = sum_of_mapping_quality / total_reads\n",
    "print(\"Average mapping quality of all reads is \" + str(average_mapping_quality_all_reads) + \".\")\n",
    "\n",
    "# Reset alignment_file to iterate over all reads again\n",
    "alignment_file.reset()"
   ]
  },
  {
   "cell_type": "code",
   "execution_count": 9,
   "metadata": {},
   "outputs": [
    {
     "name": "stdout",
     "output_type": "stream",
     "text": [
      "Average mapping quality if reads with 0 mapping quality are filtered out is 58.446975510921106.\n"
     ]
    }
   ],
   "source": [
    "# Average mapping quality if reads with 0 mapping quality are filtered out\n",
    "sum_of_mapping_quality_filtered = sum(read.mapping_quality for read in alignment_file if read.mapping_quality > 0)\n",
    "average_mapping_quality_filtered = sum_of_mapping_quality_filtered / (total_reads - num_zero_mapping_quality_reads)\n",
    "print(\"Average mapping quality if reads with 0 mapping quality are filtered out is \" + str(average_mapping_quality_filtered) + \".\")\n",
    "\n",
    "# Close AlignmentFile\n",
    "alignment_file.close()"
   ]
  },
  {
   "cell_type": "code",
   "execution_count": 10,
   "metadata": {},
   "outputs": [
    {
     "name": "stdout",
     "output_type": "stream",
     "text": [
      "\n",
      "Number of unmapped reads: 17765\n",
      "Total number of reads: 2921629\n",
      "Number of reads with mapping quality 0: 126628\n",
      "Average mapping quality for all the reads: 55.91379158681681\n",
      "Average mapping quality if reads with 0 mapping quality are filtered out: 58.446975510921106\n"
     ]
    }
   ],
   "source": [
    "# All results\n",
    "print(\"\\nNumber of unmapped reads:\", num_unmapped_reads)\n",
    "print(\"Total number of reads:\", total_reads)\n",
    "print(\"Number of reads with mapping quality 0:\", num_zero_mapping_quality_reads)\n",
    "print(\"Average mapping quality for all the reads:\", average_mapping_quality_all_reads)\n",
    "print(\"Average mapping quality if reads with 0 mapping quality are filtered out:\", average_mapping_quality_filtered)"
   ]
  }
 ],
 "metadata": {
  "kernelspec": {
   "display_name": "Python 3",
   "language": "python",
   "name": "python3"
  },
  "language_info": {
   "codemirror_mode": {
    "name": "ipython",
    "version": 3
   },
   "file_extension": ".py",
   "mimetype": "text/x-python",
   "name": "python",
   "nbconvert_exporter": "python",
   "pygments_lexer": "ipython3",
   "version": "3.10.12"
  }
 },
 "nbformat": 4,
 "nbformat_minor": 2
}
